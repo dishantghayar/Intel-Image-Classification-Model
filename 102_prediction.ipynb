{
 "metadata": {
  "language_info": {
   "codemirror_mode": {
    "name": "ipython",
    "version": 3
   },
   "file_extension": ".py",
   "mimetype": "text/x-python",
   "name": "python",
   "nbconvert_exporter": "python",
   "pygments_lexer": "ipython3",
   "version": "3.7.7-final"
  },
  "orig_nbformat": 2,
  "kernelspec": {
   "name": "python3",
   "display_name": "Python 3",
   "language": "python"
  }
 },
 "nbformat": 4,
 "nbformat_minor": 2,
 "cells": [
  {
   "cell_type": "code",
   "execution_count": 1,
   "metadata": {},
   "outputs": [],
   "source": [
    "import warnings\n",
    "warnings.filterwarnings('ignore')\n",
    "\n",
    "import os\n",
    "import numpy as np\n",
    "from shutil import copy\n",
    "import pandas as pd\n",
    "pd.set_option('display.max_colwidth', None)\n",
    "\n",
    "from sklearn.pipeline import make_pipeline\n",
    "from utils import ImagePreprocessor, ImageClassifier\n",
    "\n",
    "from visualization import display_images"
   ]
  },
  {
   "source": [
    "## Preparing Unseen Images"
   ],
   "cell_type": "markdown",
   "metadata": {}
  },
  {
   "cell_type": "code",
   "execution_count": 2,
   "metadata": {},
   "outputs": [],
   "source": [
    "dataset_dir = \"datasets\"\n",
    "\n",
    "pred_dir, _, _ = sorted(os.listdir(dataset_dir))\n",
    "pred_dir = os.path.join(dataset_dir, pred_dir)\n",
    "\n",
    "result_dir = os.path.join('results', 'predictions')\n",
    "figure_dir = os.path.join('results', 'figures')\n",
    "if not os.path.exists(result_dir):\n",
    "    os.makedirs(result_dir)\n",
    "\n",
    "if not os.path.exists(figure_dir):\n",
    "    os.makedirs(figure_dir)"
   ]
  },
  {
   "cell_type": "code",
   "execution_count": 3,
   "metadata": {
    "tags": []
   },
   "outputs": [],
   "source": [
    "images = [os.path.join(pred_dir, image_path) for image_path in os.listdir(pred_dir)]\n",
    "df = pd.DataFrame(data={\"image\": images})"
   ]
  },
  {
   "source": [
    "## Making Predictions"
   ],
   "cell_type": "markdown",
   "metadata": {}
  },
  {
   "cell_type": "code",
   "execution_count": 4,
   "metadata": {},
   "outputs": [],
   "source": [
    "pipeline = make_pipeline(\n",
    "    ImagePreprocessor(),\n",
    "    ImageClassifier(),\n",
    ")"
   ]
  },
  {
   "cell_type": "code",
   "execution_count": 5,
   "metadata": {},
   "outputs": [
    {
     "output_type": "stream",
     "name": "stdout",
     "text": [
      "CPU times: user 13min 53s, sys: 1min 28s, total: 15min 21s\nWall time: 10min 17s\n"
     ]
    }
   ],
   "source": [
    "%time y_preds = pipeline.predict(df['image'])"
   ]
  },
  {
   "cell_type": "code",
   "execution_count": 6,
   "metadata": {},
   "outputs": [],
   "source": [
    "p_classes, p_probs = [class_[0] for class_ in y_preds], [prob[1] for prob in y_preds]\n",
    "\n",
    "df['predicted_class'] = p_classes\n",
    "df['confidence'] = p_probs"
   ]
  },
  {
   "cell_type": "code",
   "execution_count": 7,
   "metadata": {},
   "outputs": [
    {
     "output_type": "stream",
     "name": "stdout",
     "text": [
      "Finished copy buildings images\n",
      "Finished copy forest images\n",
      "Finished copy glacier images\n",
      "Finished copy mountain images\n",
      "Finished copy sea images\n",
      "Finished copy street images\n"
     ]
    }
   ],
   "source": [
    "# copy images from `datasets/seg_pred/.jpg` to `results/predictions/<category>/*.jpg`\n",
    "for class_ in ImageClassifier.CLASSES:\n",
    "    class_dir = os.path.join(result_dir, class_)\n",
    "    if not os.path.exists(class_dir):\n",
    "        os.mkdir(class_dir)\n",
    "    \n",
    "    images = df[df['predicted_class'] == class_]['image']\n",
    "    for image_path in images:\n",
    "        copy(image_path, class_dir)\n",
    "    \n",
    "    print(f\"Finished copy {class_} images\")"
   ]
  },
  {
   "source": [
    "## Saving Prediction Images"
   ],
   "cell_type": "markdown",
   "metadata": {}
  },
  {
   "cell_type": "code",
   "execution_count": 8,
   "metadata": {},
   "outputs": [],
   "source": [
    "SEED = 7\n",
    "NUM_IMAGES = 30"
   ]
  },
  {
   "cell_type": "code",
   "execution_count": 9,
   "metadata": {},
   "outputs": [],
   "source": [
    "sampled_df = df.groupby('predicted_class', group_keys=False).apply(lambda class_: class_.sample(min(len(class_), NUM_IMAGES), random_state=SEED))\n",
    "\n",
    "for class_ in ImageClassifier.CLASSES:\n",
    "    images = sampled_df[sampled_df['predicted_class'] == class_]['image']\n",
    "    display_images(images, class_, width=30, height=5, max_images=30)"
   ]
  }
 ]
}